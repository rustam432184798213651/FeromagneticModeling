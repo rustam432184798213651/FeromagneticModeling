{
 "cells": [
  {
   "cell_type": "code",
   "execution_count": 4,
   "id": "3d24fbac-1cd4-4a0f-bd86-4b0d80aa482f",
   "metadata": {},
   "outputs": [],
   "source": [
    "from itertools import product\n",
    "from math import exp\n",
    "import numpy as np\n",
    "from numba import njit, prange"
   ]
  },
  {
   "cell_type": "code",
   "execution_count": 5,
   "id": "2d6ba2d4-6dd3-4dfa-80d6-e39bca920aa0",
   "metadata": {},
   "outputs": [],
   "source": [
    "@njit\n",
    "def int2array(x: int, L: int) -> np.ndarray:\n",
    "    '''\n",
    "    Transform number x to bit represantation with length of L\n",
    "    '''\n",
    "    res = np.empty(L, dtype=np.int8)\n",
    "    for i in range(L):\n",
    "        res[i] = (x & 1) * 2 - 1\n",
    "        x = x >> 1\n",
    "    return res"
   ]
  },
  {
   "cell_type": "code",
   "execution_count": 6,
   "id": "cd964c73-9952-43b9-bffe-3d0ff0d02c0c",
   "metadata": {},
   "outputs": [],
   "source": [
    "def get_range(a : int, b : int) -> np.array:\n",
    "    '''\n",
    "    get_range takes a and b and return range(a, b, 1). The difference is that this one return list.\n",
    "    '''\n",
    "    res = []\n",
    "    while a <= b:\n",
    "        res.append(a)\n",
    "        a += 1\n",
    "    return res"
   ]
  },
  {
   "cell_type": "code",
   "execution_count": 7,
   "id": "89a461da-76c1-43b1-ab2c-cd58ff8b4692",
   "metadata": {},
   "outputs": [],
   "source": [
    "\n",
    "class find_mean_energy_for_1d:\n",
    "    def int2array(self, x: int, L: int) -> np.ndarray:\n",
    "        '''\n",
    "        Transform integer x to bit represantation.\n",
    "        '''\n",
    "        res = np.empty(L, dtype=np.int8)\n",
    "        for i in range(L):\n",
    "            res[i] = (x & 1) * 2 - 1\n",
    "            x = x >> 1\n",
    "        return res\n",
    "    def energy(self, sigma: np.ndarray) -> int:\n",
    "        '''\n",
    "        Return the energy of set of electrons when the spin orientation accords to sigma. It is working for 1D case.\n",
    "        '''\n",
    "        E = 0\n",
    "        n = len(sigma)\n",
    "        for i in range(n):\n",
    "            E -= sigma[i] * sigma[(i + 1) % n]\n",
    "        return E\n",
    "    def mean_energy(self, L: int, kT: np.array) -> float:\n",
    "        '''\n",
    "        Return the mean energy of set of electrons with spin orientation accords to sigma and temperature equals to kT.\n",
    "        '''\n",
    "        E_mean = 0\n",
    "        Z = 0\n",
    "        for sigma in prange(2**(L-1)):\n",
    "            E = self.energy(int2array(sigma, L))\n",
    "            e = exp(-E / kT)\n",
    "            E_mean += E * e\n",
    "            Z += e\n",
    "        E_mean /= Z\n",
    "        return E_mean / L\n",
    "    \n",
    "@njit\n",
    "def energy_for_2d(sigma) -> int:\n",
    "    '''\n",
    "    energy_for_2d calculates energy for given 2D matrix which contains information about spin orientation of electrons.\n",
    "    '''\n",
    "    E = 0\n",
    "    n = len(sigma)\n",
    "    m = len(sigma[0])\n",
    "    for i in prange(-1, n - 1):\n",
    "        for j in prange(-1, m - 1):\n",
    "            E -= (sigma[i][j] * sigma[(i + 1)][j] + sigma[i][j] * sigma[i][j + 1])\n",
    "    return E\n"
   ]
  },
  {
   "cell_type": "code",
   "execution_count": 18,
   "id": "b2bcdde3-1fd2-443e-9eba-254c363f1385",
   "metadata": {},
   "outputs": [],
   "source": [
    "@njit\n",
    "def calculate_mean_energy_for_2d(sigma : np.array, Lx : int, E_mean : float, Z : float, kT : float) -> np.array:\n",
    "    '''\n",
    "    calculate_mean_energy_for_2d takes np.array numbers_for_translation_to_two_bits_base each number of which will be used to transfer bite representation\n",
    "    to all spin sets then will use sigma to determine the mean energy E_mean. \n",
    "    '''\n",
    "    E = energy_for_2d(sigma)\n",
    "    e = np.exp(-E / kT)\n",
    "    Z += e\n",
    "    E_mean += E * e\n",
    "    return np.array([E_mean, Z])\n",
    "\n",
    "def mean_energy(Lx: int, Ly: int, kT: np.array) -> np.array:\n",
    "    '''\n",
    "    mean_energy function contains logic for finding mean energy for 1D case and 2D case. It depends on Lx and Ly which logic it will choose.\n",
    "    '''\n",
    "    i = 0\n",
    "    if Lx == 1:\n",
    "        res = np.empty(Ly)\n",
    "        for current_kT in kT:\n",
    "            res[i] = find_mean_energy_for_1d().mean_energy(Ly, current_kT)\n",
    "            i += 1\n",
    "        return res\n",
    "    elif Ly == 1:\n",
    "        res = np.empty(Lx)\n",
    "        for current_kT in kT:\n",
    "            res[i] = find_mean_energy_for_1d().mean_energy(Lx, current_kT)\n",
    "            i += 1\n",
    "        return res\n",
    "    else:\n",
    "        return mean_energy_for_2d(Lx, Ly, kT)\n",
    "@njit(parallel=True)\n",
    "def get_all_needed_sigmas(Number_of_rows_in_sigma : int, Number_of_columns_in_sigma : int) -> np.array:\n",
    "    Number_of_elements_in_sigma = Number_of_rows_in_sigma * Number_of_columns_in_sigma\n",
    "    res = np.empty((2**Number_of_elements_in_sigma, Number_of_rows_in_sigma, Number_of_columns_in_sigma), dtype=np.int8) # Each element of sigma can be 1 or -1 so 2 ** Number_of_elements_in_sigma give us all needed space\n",
    "    for k in prange(2 ** Number_of_elements_in_sigma):\n",
    "        sigma = np.empty((Number_of_rows_in_sigma, Number_of_columns_in_sigma), dtype=np.int8)\n",
    "        current_number = np.int64(k)\n",
    "        for index in range(Number_of_elements_in_sigma):\n",
    "            if bool(current_number & 1): # If the last bit is 1\n",
    "                sigma[index // Number_of_columns_in_sigma][index % Number_of_columns_in_sigma] = 1\n",
    "            else:\n",
    "                sigma[index // Number_of_columns_in_sigma][index % Number_of_columns_in_sigma] = -1\n",
    "            current_number = current_number >> 1\n",
    "        res[k] = sigma\n",
    "    return res\n",
    "                \n",
    "@njit(parallel=True)\n",
    "def mean_energy_for_2d(Lx: int, Ly : int, kT: np.array) -> np.array:\n",
    "    '''\n",
    "    mean_energy_for_2d calcultate mean energy of spin sets with Lx * Ly electrons. Lx number of rows and Ly number of columns in this matrix.\n",
    "    '''\n",
    "\n",
    "    Number_of_elements_in_sigma = Lx * Ly\n",
    "    res = np.empty(kT.size, dtype=np.float32)\n",
    "    #array_of_all_needed_sigmas = np.empty((2**Number_of_elements_in_sigma, Ly, Lx), dtype=np.int8) # On each row there will be sigma. Each sigma is an array with length of N.\n",
    "    array_of_all_needed_sigmas = get_all_needed_sigmas(Ly, Lx)\n",
    "\n",
    "    for current_kT in prange(kT.size):\n",
    "        E_mean = 0.0\n",
    "        Z = 0.0\n",
    "        for sigma in array_of_all_needed_sigmas:\n",
    "            #Old logic\n",
    "            # for row in sigma:\n",
    "            #     row = np.append(row, 1)\n",
    "            #New logic\n",
    "            # new_column = np.array([1]*Ly)\n",
    "            # new_column = new_column.reshape(sigma.shape[0], 1)\n",
    "            # sigma = np.concatenate((sigma, new_column), axis=1)\n",
    "            current_res = calculate_mean_energy_for_2d(sigma, Lx, E_mean, Z, kT[current_kT])\n",
    "            E_mean = current_res[0]\n",
    "            Z = current_res[1]\n",
    "        E_mean /= Z\n",
    "        res[current_kT] = E_mean / (Lx * Ly)        \n",
    "    return res"
   ]
  },
  {
   "cell_type": "code",
   "execution_count": 19,
   "id": "44249e07-d871-48af-aac5-88412b821f0e",
   "metadata": {
    "scrolled": true
   },
   "outputs": [
    {
     "name": "stderr",
     "output_type": "stream",
     "text": [
      "100%|████████████████████████████████████████████████████████████████████████████████████| 1/1 [00:03<00:00,  3.48s/it]"
     ]
    },
    {
     "name": "stdout",
     "output_type": "stream",
     "text": [
      "[-3.749961  -3.7498808 -3.7496955 -3.7493215 -3.7486415 -3.7475035\n",
      " -3.7457213 -3.743076  -3.7393205 -3.7341824 -3.7273676 -3.7185671\n",
      " -3.7074594 -3.6937175 -3.6770153 -3.6570342 -3.6334739 -3.6060615\n",
      " -3.574564  -3.5388021 -3.4986625 -3.45411   -3.4051979 -3.352075\n",
      " -3.2949855 -3.2342665 -3.1703374 -3.1036859 -3.034848  -2.9643896\n",
      " -2.892882  -2.8208845 -2.7489245 -2.6774855 -2.606995  -2.537822\n",
      " -2.4702709 -2.4045858 -2.3409524 -2.2795029]\n"
     ]
    },
    {
     "name": "stderr",
     "output_type": "stream",
     "text": [
      "\n"
     ]
    }
   ],
   "source": [
    "import time\n",
    "from tqdm import trange, tqdm\n",
    "# Initialization of data. Put your input here.\n",
    "kT_range = np.arange(1.0, 5.0, 0.1) # Before multiplying by 0.1 and adding 1.0\n",
    "Ly = 4\n",
    "Lx_range = np.arange(2, 9, 1)\n",
    "\n",
    "#Main logic\n",
    "first_element_of_Lx_range = Lx_range[0]\n",
    "#array_of_mean_energies = np.empty(shape=(Lx_range[-1] - Lx_range[0], int(kT_range[-1] * 10) - int(kT_range[0] * 10) + 1))\n",
    "example = np.empty((1, 50))\n",
    "for Lx in trange(4, 5):\n",
    "    j = 0\n",
    "    print(mean_energy_for_2d(Lx, Ly, kT_range))\n",
    "    #array_of_mean_energies[Lx - first_element_of_Lx_range] = mean_energy_for_2d(Lx, Ly, kT_range)\n",
    "\n",
    "#np.save(\"matrix_of_mean_energies.txt\", array_of_mean_energies)"
   ]
  },
  {
   "cell_type": "code",
   "execution_count": 3,
   "id": "30b16747-e0fb-484a-97c8-3c160f938242",
   "metadata": {},
   "outputs": [
    {
     "ename": "NameError",
     "evalue": "name 'array_of_mean_energies' is not defined",
     "output_type": "error",
     "traceback": [
      "\u001b[1;31m---------------------------------------------------------------------------\u001b[0m",
      "\u001b[1;31mNameError\u001b[0m                                 Traceback (most recent call last)",
      "Cell \u001b[1;32mIn[3], line 1\u001b[0m\n\u001b[1;32m----> 1\u001b[0m \u001b[43marray_of_mean_energies\u001b[49m\n",
      "\u001b[1;31mNameError\u001b[0m: name 'array_of_mean_energies' is not defined"
     ]
    }
   ],
   "source": [
    "array_of_mean_energies"
   ]
  },
  {
   "cell_type": "code",
   "execution_count": 9,
   "id": "497660aa-1385-43fb-813c-bbbc52ddcf5b",
   "metadata": {},
   "outputs": [
    {
     "ename": "FileNotFoundError",
     "evalue": "[Errno 2] No such file or directory: 'matrix_of_mean_energies.txt'",
     "output_type": "error",
     "traceback": [
      "\u001b[1;31m---------------------------------------------------------------------------\u001b[0m",
      "\u001b[1;31mFileNotFoundError\u001b[0m                         Traceback (most recent call last)",
      "Cell \u001b[1;32mIn[9], line 1\u001b[0m\n\u001b[1;32m----> 1\u001b[0m data \u001b[38;5;241m=\u001b[39m \u001b[43mnp\u001b[49m\u001b[38;5;241;43m.\u001b[39;49m\u001b[43mload\u001b[49m\u001b[43m(\u001b[49m\u001b[38;5;124;43m\"\u001b[39;49m\u001b[38;5;124;43mmatrix_of_mean_energies.txt\u001b[39;49m\u001b[38;5;124;43m\"\u001b[39;49m\u001b[43m)\u001b[49m\n\u001b[0;32m      2\u001b[0m psm \u001b[38;5;241m=\u001b[39m ax\u001b[38;5;241m.\u001b[39mpcolormesh(data, cmap\u001b[38;5;241m=\u001b[39mcmap, rasterized\u001b[38;5;241m=\u001b[39m\u001b[38;5;28;01mTrue\u001b[39;00m, vmin\u001b[38;5;241m=\u001b[39m\u001b[38;5;241m-\u001b[39m\u001b[38;5;241m4\u001b[39m, vmax\u001b[38;5;241m=\u001b[39m\u001b[38;5;241m4\u001b[39m)\n\u001b[0;32m      3\u001b[0m ax\n",
      "File \u001b[1;32m~\\AppData\\Local\\Programs\\Python\\Python311\\Lib\\site-packages\\numpy\\lib\\npyio.py:427\u001b[0m, in \u001b[0;36mload\u001b[1;34m(file, mmap_mode, allow_pickle, fix_imports, encoding, max_header_size)\u001b[0m\n\u001b[0;32m    425\u001b[0m     own_fid \u001b[38;5;241m=\u001b[39m \u001b[38;5;28;01mFalse\u001b[39;00m\n\u001b[0;32m    426\u001b[0m \u001b[38;5;28;01melse\u001b[39;00m:\n\u001b[1;32m--> 427\u001b[0m     fid \u001b[38;5;241m=\u001b[39m stack\u001b[38;5;241m.\u001b[39menter_context(\u001b[38;5;28;43mopen\u001b[39;49m\u001b[43m(\u001b[49m\u001b[43mos_fspath\u001b[49m\u001b[43m(\u001b[49m\u001b[43mfile\u001b[49m\u001b[43m)\u001b[49m\u001b[43m,\u001b[49m\u001b[43m \u001b[49m\u001b[38;5;124;43m\"\u001b[39;49m\u001b[38;5;124;43mrb\u001b[39;49m\u001b[38;5;124;43m\"\u001b[39;49m\u001b[43m)\u001b[49m)\n\u001b[0;32m    428\u001b[0m     own_fid \u001b[38;5;241m=\u001b[39m \u001b[38;5;28;01mTrue\u001b[39;00m\n\u001b[0;32m    430\u001b[0m \u001b[38;5;66;03m# Code to distinguish from NumPy binary files and pickles.\u001b[39;00m\n",
      "\u001b[1;31mFileNotFoundError\u001b[0m: [Errno 2] No such file or directory: 'matrix_of_mean_energies.txt'"
     ]
    }
   ],
   "source": [
    "data = np.load(\"matrix_of_mean_energies.txt\")\n",
    "psm = ax.pcolormesh(data, cmap=cmap, rasterized=True, vmin=-4, vmax=4)\n",
    "ax"
   ]
  },
  {
   "cell_type": "code",
   "execution_count": null,
   "id": "1b052ac2-0335-4fa1-9ccc-ddf563be59a3",
   "metadata": {},
   "outputs": [],
   "source": []
  }
 ],
 "metadata": {
  "kernelspec": {
   "display_name": "Python 3 (ipykernel)",
   "language": "python",
   "name": "python3"
  },
  "language_info": {
   "codemirror_mode": {
    "name": "ipython",
    "version": 3
   },
   "file_extension": ".py",
   "mimetype": "text/x-python",
   "name": "python",
   "nbconvert_exporter": "python",
   "pygments_lexer": "ipython3",
   "version": "3.11.5"
  }
 },
 "nbformat": 4,
 "nbformat_minor": 5
}
