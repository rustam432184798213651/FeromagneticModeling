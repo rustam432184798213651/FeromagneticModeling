{
 "cells": [
  {
   "cell_type": "code",
   "execution_count": 1,
   "id": "3d24fbac-1cd4-4a0f-bd86-4b0d80aa482f",
   "metadata": {},
   "outputs": [],
   "source": [
    "from itertools import product\n",
    "from math import exp\n",
    "import numpy as np\n",
    "from numba import njit, prange"
   ]
  },
  {
   "cell_type": "code",
   "execution_count": 2,
   "id": "2d6ba2d4-6dd3-4dfa-80d6-e39bca920aa0",
   "metadata": {},
   "outputs": [],
   "source": [
    "@njit\n",
    "def int2array(x: int, L: int) -> np.ndarray:\n",
    "    '''\n",
    "    Transform number x to bit represantation with length of L\n",
    "    '''\n",
    "    res = np.empty(L, dtype=np.int8)\n",
    "    for i in range(L):\n",
    "        res[i] = (x & 1) * 2 - 1\n",
    "        x = x >> 1\n",
    "    return res"
   ]
  },
  {
   "cell_type": "code",
   "execution_count": 3,
   "id": "cd964c73-9952-43b9-bffe-3d0ff0d02c0c",
   "metadata": {},
   "outputs": [],
   "source": [
    "def get_range(a : int, b : int) -> np.array:\n",
    "    '''\n",
    "    get_range takes a and b and return range(a, b, 1). The difference is that this one return list.\n",
    "    '''\n",
    "    res = []\n",
    "    while a <= b:\n",
    "        res.append(a)\n",
    "        a += 1\n",
    "    return res"
   ]
  },
  {
   "cell_type": "code",
   "execution_count": 4,
   "id": "89a461da-76c1-43b1-ab2c-cd58ff8b4692",
   "metadata": {},
   "outputs": [],
   "source": [
    "\n",
    "class find_mean_energy_for_1d:\n",
    "    def int2array(self, x: int, L: int) -> np.ndarray:\n",
    "        '''\n",
    "        Transform integer x to bit represantation.\n",
    "        '''\n",
    "        res = np.empty(L, dtype=np.int8)\n",
    "        for i in range(L):\n",
    "            res[i] = (x & 1) * 2 - 1\n",
    "            x = x >> 1\n",
    "        return res\n",
    "    def energy(self, sigma: np.ndarray) -> int:\n",
    "        '''\n",
    "        Return the energy of set of electrons when the spin orientation accords to sigma. It is working for 1D case.\n",
    "        '''\n",
    "        E = 0\n",
    "        n = len(sigma)\n",
    "        for i in range(n):\n",
    "            E -= sigma[i] * sigma[(i + 1) % n]\n",
    "        return E\n",
    "    def mean_energy(self, L: int, kT: np.array) -> float:\n",
    "        '''\n",
    "        Return the mean energy of set of electrons with spin orientation accords to sigma and temperature equals to kT.\n",
    "        '''\n",
    "        E_mean = 0\n",
    "        Z = 0\n",
    "        for sigma in prange(2**(L-1)):\n",
    "            E = self.energy(int2array(sigma, L))\n",
    "            e = exp(-E / kT)\n",
    "            E_mean += E * e\n",
    "            Z += e\n",
    "        E_mean /= Z\n",
    "        return E_mean / L\n",
    "    \n",
    "@njit\n",
    "def energy_for_2d(sigma) -> int:\n",
    "    '''\n",
    "    energy_for_2d calculates energy for given 2D matrix which contains information about spin orientation of electrons.\n",
    "    '''\n",
    "    E = 0\n",
    "    n = len(sigma)\n",
    "    m = len(sigma[0])\n",
    "    for i in prange(-1, n - 1):\n",
    "        for j in prange(-1, m - 1):\n",
    "            E -= (sigma[i][j] * sigma[(i + 1)][j] + sigma[i][j] * sigma[i][j + 1])\n",
    "    return E\n"
   ]
  },
  {
   "cell_type": "code",
   "execution_count": 5,
   "id": "b2bcdde3-1fd2-443e-9eba-254c363f1385",
   "metadata": {},
   "outputs": [],
   "source": [
    "@njit\n",
    "def calculate_mean_energy_for_2d(sigma : np.array, Lx : int, E_mean : float, Z : float, kT : float) -> np.array:\n",
    "    '''\n",
    "    calculate_mean_energy_for_2d takes np.array numbers_for_translation_to_two_bits_base each number of which will be used to transfer bite representation\n",
    "    to all spin sets then will use sigma to determine the mean energy E_mean. \n",
    "    '''\n",
    "    E = energy_for_2d(sigma)\n",
    "    e = np.exp(-E / kT)\n",
    "    Z += e\n",
    "    E_mean += E * e\n",
    "    return np.array([E_mean, Z])\n",
    "\n",
    "def mean_energy(Lx: int, Ly: int, kT: np.array) -> np.array:\n",
    "    '''\n",
    "    mean_energy function contains logic for finding mean energy for 1D case and 2D case. It depends on Lx and Ly which logic it will choose.\n",
    "    '''\n",
    "    i = 0\n",
    "    if Lx == 1:\n",
    "        res = np.empty(Ly)\n",
    "        for current_kT in kT:\n",
    "            res[i] = find_mean_energy_for_1d().mean_energy(Ly, current_kT)\n",
    "            i += 1\n",
    "        return res\n",
    "    elif Ly == 1:\n",
    "        res = np.empty(Lx)\n",
    "        for current_kT in kT:\n",
    "            res[i] = find_mean_energy_for_1d().mean_energy(Lx, current_kT)\n",
    "            i += 1\n",
    "        return res\n",
    "    else:\n",
    "        return mean_energy_for_2d(Lx, Ly, kT)\n",
    "@njit(parallel=True)\n",
    "def get_all_needed_sigmas(Number_of_rows_in_sigma : int, Number_of_columns_in_sigma : int) -> np.array:\n",
    "    Number_of_elements_in_sigma = Number_of_rows_in_sigma * Number_of_columns_in_sigma\n",
    "    res = np.empty((2**Number_of_elements_in_sigma, Number_of_rows_in_sigma, Number_of_columns_in_sigma), dtype=np.int8) # Each element of sigma can be 1 or -1 so 2 ** Number_of_elements_in_sigma give us all needed space\n",
    "    for k in prange(2 ** Number_of_elements_in_sigma):\n",
    "        sigma = np.empty((Number_of_rows_in_sigma, Number_of_columns_in_sigma), dtype=np.int8)\n",
    "        current_number = np.int64(k)\n",
    "        for index in range(Number_of_elements_in_sigma):\n",
    "            if bool(current_number & 1): # If the last bit is 1\n",
    "                sigma[index // Number_of_columns_in_sigma][index % Number_of_columns_in_sigma] = 1\n",
    "            else:\n",
    "                sigma[index // Number_of_columns_in_sigma][index % Number_of_columns_in_sigma] = -1\n",
    "            current_number = current_number >> 1\n",
    "        res[k] = sigma\n",
    "    return res\n",
    "                \n",
    "@njit(parallel=True)\n",
    "def mean_energy_for_2d(Lx: int, Ly : int, kT: np.array) -> np.array:\n",
    "    '''\n",
    "    mean_energy_for_2d calcultate mean energy of spin sets with Lx * Ly electrons. Lx number of rows and Ly number of columns in this matrix.\n",
    "    '''\n",
    "\n",
    "    Number_of_elements_in_sigma = Lx * Ly\n",
    "    res = np.empty(kT.size, dtype=np.float32)\n",
    "    #array_of_all_needed_sigmas = np.empty((2**Number_of_elements_in_sigma, Ly, Lx), dtype=np.int8) # On each row there will be sigma. Each sigma is an array with length of N.\n",
    "    array_of_all_needed_sigmas = get_all_needed_sigmas(Ly, Lx)\n",
    "    for current_kT in prange(kT.size):\n",
    "        E_mean = 0.0\n",
    "        Z = 0.0\n",
    "        for sigma in array_of_all_needed_sigmas:\n",
    "            current_res = calculate_mean_energy_for_2d(sigma, Lx, E_mean, Z, kT[current_kT])\n",
    "            E_mean = current_res[0]\n",
    "            Z = current_res[1]\n",
    "            E_mean /= Z\n",
    "        res[current_kT] = E_mean / (Lx * Ly)        \n",
    "    return res"
   ]
  },
  {
   "cell_type": "code",
   "execution_count": null,
   "id": "44249e07-d871-48af-aac5-88412b821f0e",
   "metadata": {},
   "outputs": [
    {
     "name": "stdout",
     "output_type": "stream",
     "text": [
      "4.900000000000004\n"
     ]
    },
    {
     "name": "stderr",
     "output_type": "stream",
     "text": [
      "  0%|                                                                                            | 0/2 [00:00<?, ?it/s]"
     ]
    }
   ],
   "source": [
    "import time\n",
    "from tqdm import trange, tqdm\n",
    "# Initialization of data. Put your input here.\n",
    "kT_range = np.arange(1.0, 5.0, 0.1) # Before multiplying by 0.1 and adding 1.0\n",
    "Ly = 4\n",
    "Lx_range = np.arange(2, 9, 1)\n",
    "\n",
    "#Main logic\n",
    "first_element_of_Lx_range = Lx_range[0]\n",
    "array_of_mean_energies = np.empty(shape=(Lx_range[-1] - Lx_range[0], int(kT_range[-1] * 10) - int(kT_range[0] * 10) + 1))\n",
    "print(kT_range[-1])\n",
    "for Lx in trange(7, 9):\n",
    "    j = 0\n",
    "    array_of_mean_energies[Lx - first_element_of_Lx_range] = mean_energy_for_2d(Lx, Ly, kT_range)\n",
    "np.save(\"matrix_of_mean_energies.txt\", array_of_mean_energies)"
   ]
  },
  {
   "cell_type": "code",
   "execution_count": null,
   "id": "30b16747-e0fb-484a-97c8-3c160f938242",
   "metadata": {},
   "outputs": [],
   "source": [
    "array_of_mean_energies"
   ]
  },
  {
   "cell_type": "code",
   "execution_count": null,
   "id": "497660aa-1385-43fb-813c-bbbc52ddcf5b",
   "metadata": {},
   "outputs": [],
   "source": [
    "data = np.load(\"matrix_of_mean_energies.txt\")\n",
    "psm = ax.pcolormesh(data, cmap=cmap, rasterized=True, vmin=-4, vmax=4)\n",
    "ax"
   ]
  },
  {
   "cell_type": "code",
   "execution_count": null,
   "id": "4099e1b9-8da7-464a-ae1d-984a2dbd66fd",
   "metadata": {},
   "outputs": [],
   "source": []
  }
 ],
 "metadata": {
  "kernelspec": {
   "display_name": "Python 3 (ipykernel)",
   "language": "python",
   "name": "python3"
  },
  "language_info": {
   "codemirror_mode": {
    "name": "ipython",
    "version": 3
   },
   "file_extension": ".py",
   "mimetype": "text/x-python",
   "name": "python",
   "nbconvert_exporter": "python",
   "pygments_lexer": "ipython3",
   "version": "3.11.5"
  }
 },
 "nbformat": 4,
 "nbformat_minor": 5
}
